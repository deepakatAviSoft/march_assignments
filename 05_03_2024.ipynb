{
  "nbformat": 4,
  "nbformat_minor": 0,
  "metadata": {
    "colab": {
      "provenance": [],
      "authorship_tag": "ABX9TyMz54I9SksQEN8G8/S88NCd",
      "include_colab_link": true
    },
    "kernelspec": {
      "name": "python3",
      "display_name": "Python 3"
    },
    "language_info": {
      "name": "python"
    }
  },
  "cells": [
    {
      "cell_type": "markdown",
      "metadata": {
        "id": "view-in-github",
        "colab_type": "text"
      },
      "source": [
        "<a href=\"https://colab.research.google.com/github/deepakatAviSoft/march_assignments/blob/main/05_03_2024.ipynb\" target=\"_parent\"><img src=\"https://colab.research.google.com/assets/colab-badge.svg\" alt=\"Open In Colab\"/></a>"
      ]
    },
    {
      "cell_type": "markdown",
      "source": [
        "<pre>\n",
        "1.You are given the following :\n",
        "\n",
        "A positive number N\n",
        "Heights : A list of heights of N persons standing in a queue\n",
        "Infronts : A list of numbers corresponding to each person (P) that gives the number of persons who are taller than P and standing in front of P\n",
        "You need to return  list of actual order of persons’s height\n",
        "\n",
        "Consider that heights will be unique\n",
        "\n",
        "Example\n",
        "\n",
        "Input :\n",
        "Heights: 5 3 2 6 1 4\n",
        "InFronts: 0 1 2 0 3 2\n",
        "Output :\n",
        "actual order is: 5 3 2 1 6 4\n",
        "So, you can see that for the person with height 5, there is no one taller than him who is in front of him, and hence Infronts has 0 for him.\n",
        "\n",
        "For person with height 3, there is 1 person ( Height : 5 ) in front of him who is taller than him.\n",
        "\n",
        "You can do similar inference for other people in the list."
      ],
      "metadata": {
        "id": "EVA_ne2nl0Y0"
      }
    },
    {
      "cell_type": "code",
      "execution_count": 65,
      "metadata": {
        "id": "8PdkNcmuFylO"
      },
      "outputs": [],
      "source": [
        "class Solution:\n",
        "    def order(self, heights, infronts):\n",
        "        # Calculate the length of the input lists heights and infronts\n",
        "        num_people = len(heights)\n",
        "\n",
        "        # Create a list of tuples where each tuple contains a person's height and the corresponding number of persons taller than them standing in front of them\n",
        "        people_info = [(heights[i], infronts[i]) for i in range(num_people)]\n",
        "\n",
        "        # Sort the list of tuples based on the first element of each tuple (heights)\n",
        "        people_info.sort()\n",
        "\n",
        "        # Initialize a list to store the ordered heights, initially filled with -1\n",
        "        ordered_heights = [-1] * num_people\n",
        "\n",
        "        # Iterate through each person in the sorted list\n",
        "        for i in range(num_people):\n",
        "            taller_count = 0  # Counter to keep track of the number of persons already placed\n",
        "            position = 0    # Index to traverse the ordered list\n",
        "\n",
        "            # Find the correct position to place the current person's height based on the number of persons taller than them standing in front\n",
        "            while True:\n",
        "                # Break if the number of taller persons already placed matches the expected number for the current person\n",
        "                if taller_count == people_info[i][1]:\n",
        "                    break\n",
        "                # Increment the counter if the current position is empty\n",
        "                if ordered_heights[position] == -1:\n",
        "                    taller_count += 1\n",
        "                position += 1\n",
        "\n",
        "            # Move to the next empty position in the ordered list\n",
        "            while ordered_heights[position] != -1:\n",
        "                position += 1\n",
        "\n",
        "            # Place the current person's height in the correct position in the ordered list\n",
        "            ordered_heights[position] = people_info[i][0]\n",
        "\n",
        "        # Return the final ordered list of heights\n",
        "        return ordered_heights\n"
      ]
    },
    {
      "cell_type": "code",
      "source": [
        "heights = [5, 3, 2, 6, 1, 4]\n",
        "infronts = [0, 1, 2, 0, 3, 2]\n",
        "\n",
        "ans = Solution().order(heights, infronts)\n",
        "print(ans)"
      ],
      "metadata": {
        "colab": {
          "base_uri": "https://localhost:8080/"
        },
        "id": "L5GLGpwgGf75",
        "outputId": "f906022d-f640-4fab-b10a-8f920a9dc383"
      },
      "execution_count": 66,
      "outputs": [
        {
          "output_type": "stream",
          "name": "stdout",
          "text": [
            "[5, 3, 2, 1, 6, 4]\n"
          ]
        }
      ]
    },
    {
      "cell_type": "markdown",
      "source": [
        "<pre>\n",
        "2.Find shortest unique prefix to represent each word in the list.\n",
        "\n",
        "Example:\n",
        "\n",
        "Input: [zebra, dog, duck, dove]\n",
        "Output: {z, dog, du, dov}\n",
        "where we can see that\n",
        "zebra = z\n",
        "dog = dog\n",
        "duck = du\n",
        "dove = dov\n",
        "NOTE : Assume that no word is prefix of another. In other words, the representation is always possible."
      ],
      "metadata": {
        "id": "nl2Bj9pUlrZz"
      }
    },
    {
      "cell_type": "code",
      "source": [
        "# Get the number of strings from user input\n",
        "num_strings = int(input(\"Enter the numbers of strings:\"))\n",
        "\n",
        "# List to store the entered strings\n",
        "strings_list = []\n",
        "\n",
        "# Loop to get the strings from the user\n",
        "for i in range(num_strings):\n",
        "    string = input(f\"Enter string {i+1}: \")\n",
        "    strings_list.append(string)\n",
        "\n",
        "# Dictionary to store all prefixes and their counts\n",
        "all_prefixes_counts = {}\n",
        "\n",
        "# Iterate through each string to find all prefixes and their counts\n",
        "for word in strings_list:\n",
        "    prefix = \"\"\n",
        "    for i in range(len(word)):\n",
        "        prefix += word[i]\n",
        "        if prefix not in all_prefixes_counts:\n",
        "            all_prefixes_counts[prefix] = 0\n",
        "        all_prefixes_counts[prefix] += 1\n",
        "\n",
        "# List to store the shortest unique prefixes\n",
        "shortest_unique_prefixes = []\n",
        "\n",
        "# Iterate through each string to find shortest unique prefixes\n",
        "for word in strings_list:\n",
        "    prefix = \"\"\n",
        "    for i in range(len(word)):\n",
        "        prefix += word[i]\n",
        "        if all_prefixes_counts[prefix] == 1:\n",
        "            shortest_unique_prefixes.append(prefix)\n",
        "            break\n",
        "\n",
        "# Print the shortest unique prefixes\n",
        "print(shortest_unique_prefixes)\n"
      ],
      "metadata": {
        "colab": {
          "base_uri": "https://localhost:8080/"
        },
        "id": "rWbX-LbxlX9t",
        "outputId": "8620f5be-7f46-4046-b42b-719c1421bb8c"
      },
      "execution_count": 1,
      "outputs": [
        {
          "output_type": "stream",
          "name": "stdout",
          "text": [
            "Enter the numbers of strings:4\n",
            "Enter string 1: zebra\n",
            "Enter string 2: dog\n",
            "Enter string 3: duck\n",
            "Enter string 4: dove\n",
            "['z', 'dog', 'du', 'dov']\n"
          ]
        }
      ]
    },
    {
      "cell_type": "markdown",
      "source": [
        "<pre>3.Given a 2 x N grid of integer, A, choose numbers such that the sum of the numbers\n",
        "\n",
        "is maximum and no two chosen numbers are adjacent horizontally, vertically or diagonally, and return it.\n",
        "\n",
        "Note: You can choose more than 2 numbers.\n",
        "\n",
        "Input Format:\n",
        "\n",
        "The first and the only argument of input contains a 2d matrix, A.\n",
        "Output Format:\n",
        "\n",
        "Return an integer, representing the maximum possible sum.\n",
        "Constraints:\n",
        "\n",
        "1 <= N <= 20000\n",
        "1 <= A[i] <= 2000\n",
        "Example:\n",
        "\n",
        "Input 1:\n",
        "    A = [   [1]\n",
        "            [2]    ]\n",
        "\n",
        "Output 1:\n",
        "    2\n",
        "\n",
        "Explanation 1:\n",
        "    We will choose 2.\n",
        "\n",
        "Input 2:\n",
        "    A = [   [1, 2, 3, 4]\n",
        "            [2, 3, 4, 5]    ]\n",
        "    \n",
        "Output 2:"
      ],
      "metadata": {
        "id": "Sc6Ywmygm-0z"
      }
    },
    {
      "cell_type": "code",
      "source": [
        "def max_sum_no_adjacent(matrix):\n",
        "    n = len(matrix[0])\n",
        "\n",
        "    # Initialize dp array to store maximum sum\n",
        "    dp = [0] * (n + 1)\n",
        "    dp[1] = max(matrix[0][0], matrix[1][0])\n",
        "\n",
        "    # Traverse through each column\n",
        "    for i in range(2, n + 1):\n",
        "        # Calculate maximum sum at column i\n",
        "        dp[i] = max(dp[i - 1], dp[i - 2] + max(matrix[0][i - 1], matrix[1][i - 1]))\n",
        "\n",
        "    return dp[n]\n",
        "\n",
        "# Example usage\n",
        "if __name__ == \"__main__\":\n",
        "    A1 = [[1], [2]]\n",
        "    print(\"Output 1:\", max_sum_no_adjacent(A1))  # Output: 2\n",
        "\n",
        "    A2 = [[1, 2, 3, 4], [2, 3, 4, 5]]\n",
        "    print(\"Output 2:\", max_sum_no_adjacent(A2))  # Output: 8 (choosing 3 and 5)\n"
      ],
      "metadata": {
        "colab": {
          "base_uri": "https://localhost:8080/"
        },
        "id": "vLuSTPBLVJV_",
        "outputId": "34cc685e-3702-4ece-bff5-41fee8858661"
      },
      "execution_count": 12,
      "outputs": [
        {
          "output_type": "stream",
          "name": "stdout",
          "text": [
            "Output 1: 2\n",
            "Output 2: 8\n"
          ]
        }
      ]
    },
    {
      "cell_type": "code",
      "source": [],
      "metadata": {
        "id": "KfmdOBENnYFl"
      },
      "execution_count": null,
      "outputs": []
    }
  ]
}