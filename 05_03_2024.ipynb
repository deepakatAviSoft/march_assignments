{
  "nbformat": 4,
  "nbformat_minor": 0,
  "metadata": {
    "colab": {
      "provenance": [],
      "authorship_tag": "ABX9TyOkrYSAiUb89L7RW4eeOeRo",
      "include_colab_link": true
    },
    "kernelspec": {
      "name": "python3",
      "display_name": "Python 3"
    },
    "language_info": {
      "name": "python"
    }
  },
  "cells": [
    {
      "cell_type": "markdown",
      "metadata": {
        "id": "view-in-github",
        "colab_type": "text"
      },
      "source": [
        "<a href=\"https://colab.research.google.com/github/deepakatAviSoft/march_assignments/blob/main/05_03_2024.ipynb\" target=\"_parent\"><img src=\"https://colab.research.google.com/assets/colab-badge.svg\" alt=\"Open In Colab\"/></a>"
      ]
    },
    {
      "cell_type": "code",
      "execution_count": 65,
      "metadata": {
        "id": "8PdkNcmuFylO"
      },
      "outputs": [],
      "source": [
        "class Solution:\n",
        "    def order(self, heights, infronts):\n",
        "        # Calculate the length of the input lists heights and infronts\n",
        "        num_people = len(heights)\n",
        "\n",
        "        # Create a list of tuples where each tuple contains a person's height and the corresponding number of persons taller than them standing in front of them\n",
        "        people_info = [(heights[i], infronts[i]) for i in range(num_people)]\n",
        "\n",
        "        # Sort the list of tuples based on the first element of each tuple (heights)\n",
        "        people_info.sort()\n",
        "\n",
        "        # Initialize a list to store the ordered heights, initially filled with -1\n",
        "        ordered_heights = [-1] * num_people\n",
        "\n",
        "        # Iterate through each person in the sorted list\n",
        "        for i in range(num_people):\n",
        "            taller_count = 0  # Counter to keep track of the number of persons already placed\n",
        "            position = 0    # Index to traverse the ordered list\n",
        "\n",
        "            # Find the correct position to place the current person's height based on the number of persons taller than them standing in front\n",
        "            while True:\n",
        "                # Break if the number of taller persons already placed matches the expected number for the current person\n",
        "                if taller_count == people_info[i][1]:\n",
        "                    break\n",
        "                # Increment the counter if the current position is empty\n",
        "                if ordered_heights[position] == -1:\n",
        "                    taller_count += 1\n",
        "                position += 1\n",
        "\n",
        "            # Move to the next empty position in the ordered list\n",
        "            while ordered_heights[position] != -1:\n",
        "                position += 1\n",
        "\n",
        "            # Place the current person's height in the correct position in the ordered list\n",
        "            ordered_heights[position] = people_info[i][0]\n",
        "\n",
        "        # Return the final ordered list of heights\n",
        "        return ordered_heights\n"
      ]
    },
    {
      "cell_type": "code",
      "source": [
        "heights = [5, 3, 2, 6, 1, 4]\n",
        "infronts = [0, 1, 2, 0, 3, 2]\n",
        "\n",
        "ans = Solution().order(heights, infronts)\n",
        "print(ans)"
      ],
      "metadata": {
        "colab": {
          "base_uri": "https://localhost:8080/"
        },
        "id": "L5GLGpwgGf75",
        "outputId": "f906022d-f640-4fab-b10a-8f920a9dc383"
      },
      "execution_count": 66,
      "outputs": [
        {
          "output_type": "stream",
          "name": "stdout",
          "text": [
            "[5, 3, 2, 1, 6, 4]\n"
          ]
        }
      ]
    }
  ]
}